{
 "cells": [
  {
   "cell_type": "code",
   "execution_count": 28,
   "id": "964f78af-89a7-46f2-8e6f-021527227dc9",
   "metadata": {},
   "outputs": [],
   "source": [
    "#Necessary Imports\n",
    "import pandas as pd\n",
    "import numpy as np\n",
    "from sklearn.model_selection import train_test_split\n",
    "from sklearn.ensemble import RandomForestRegressor\n",
    "from sklearn.metrics import mean_squared_error, r2_score\n",
    "from sklearn.preprocessing import OneHotEncoder\n",
    "from sklearn.compose import ColumnTransformer\n",
    "from sklearn.model_selection import cross_val_score\n",
    "import matplotlib.pyplot as plt\n"
   ]
  },
  {
   "cell_type": "code",
   "execution_count": 2,
   "id": "aed28713-1c91-4b9f-afde-c23a0439b2fe",
   "metadata": {},
   "outputs": [],
   "source": [
    "#Load in data for New York\n",
    "nyc_data = pd.read_csv('NYC_Property_Sales_Apartments.csv')\n",
    "nyc_data = nyc_data[['borough', 'neighborhood', 'gross_square_feet', 'sale_price']]\n",
    "nyc_data['city'] = 'New York'\n",
    "nyc_data['borough'] = nyc_data['borough'].str.lower()\n",
    "nyc_data['neighborhood'] = nyc_data['neighborhood'].str.lower()\n",
    "nyc_data['city'] = nyc_data['city'].str.lower()\n",
    "\n",
    "#Load in data for London\n",
    "london_data = pd.read_csv('London.csv')\n",
    "london_data = london_data.rename(columns={\n",
    "    'City/County': 'city',\n",
    "    'Location': 'neighborhood',\n",
    "    'Area in sq ft': 'gross_square_feet',\n",
    "    'Price': 'sale_price'\n",
    "})\n",
    "london_data['sale_price'] *= 1.24  # adjust the sale price to match USD\n",
    "london_data['borough'] = ''  # since london does not have boroughs we do not need it\n",
    "london_data['city'] = london_data['city'].str.lower()\n",
    "london_data['neighborhood'] = london_data['neighborhood'].str.lower()\n",
    "\n",
    "london_data = london_data[['city', 'borough', 'neighborhood', 'gross_square_feet', 'sale_price']]\n",
    "\n",
    "'''\n",
    "Renamed all of the the columns in the london dataset as well as added a borough column in order to make sure it aligns with the columns that we used for the new york dataset in order\n",
    "for them to be combined and to easily be able to train on both the data sets so that we could use them for evaluation and user input as well. \n",
    "'''\n",
    "\n",
    "# combine the two data sets \n",
    "data = pd.concat([nyc_data, london_data], ignore_index=True)\n",
    "\n",
    "# multiple different cities\n",
    "multiple_cities = pd.read_csv('multiple cities.csv')\n",
    "\n",
    "multiple_cities.rename(columns={\n",
    "    'Metro': 'city',            \n",
    "    'city': 'neighborhood',     \n",
    "    'sq ft': 'gross_square_feet', \n",
    "    'price': 'sale_price'     \n",
    "}, inplace=True)\n",
    "\n",
    "multiple_cities['city'] = multiple_cities['city'].str.lower()\n",
    "multiple_cities['neighborhood'] = multiple_cities['neighborhood'].str.lower()\n",
    "\n",
    "data = pd.concat([data, multiple_cities], ignore_index=True)\n",
    "\n",
    "data['gross_square_feet'] = pd.to_numeric(data['gross_square_feet'], errors='coerce')\n",
    "data['sale_price'] = pd.to_numeric(data['sale_price'], errors='coerce')"
   ]
  },
  {
   "cell_type": "code",
   "execution_count": 20,
   "id": "3072b27d-be33-4b1a-99aa-c9ea13d02e6f",
   "metadata": {},
   "outputs": [],
   "source": [
    "#preprocessing, filter out potential outliers\n",
    "filtered_data = data[\n",
    "    (data['gross_square_feet'] > 100) & (data['gross_square_feet'] < 20000) &\n",
    "    (data['sale_price'] > 50000) & (data['sale_price'] < 10000000)\n",
    "]\n",
    "\n",
    "features = filtered_data[['city', 'borough', 'neighborhood', 'gross_square_feet']]\n",
    "target = filtered_data['sale_price']\n",
    "\n",
    "column_transformer = ColumnTransformer([\n",
    "    ('cat', OneHotEncoder(handle_unknown='ignore'), ['city', 'borough', 'neighborhood'])\n",
    "], remainder='passthrough')\n",
    "\n",
    "#features_encoded = column_transformer.fit_transform(features)\n",
    "features_encoded = features.copy()\n",
    "features_encoded['city'] = features_encoded['city'].factorize()[0]\n",
    "features_encoded['borough'] = features_encoded['borough'].fillna('')\n",
    "features_encoded['borough'] = features_encoded['borough'].factorize()[0]\n",
    "features_encoded['neighborhood'] = features_encoded['neighborhood'].factorize()[0]"
   ]
  },
  {
   "cell_type": "code",
   "execution_count": 22,
   "id": "d3d30040-ab12-4e67-9afb-9313a261c11c",
   "metadata": {},
   "outputs": [
    {
     "data": {
      "text/html": [
       "<div>\n",
       "<style scoped>\n",
       "    .dataframe tbody tr th:only-of-type {\n",
       "        vertical-align: middle;\n",
       "    }\n",
       "\n",
       "    .dataframe tbody tr th {\n",
       "        vertical-align: top;\n",
       "    }\n",
       "\n",
       "    .dataframe thead th {\n",
       "        text-align: right;\n",
       "    }\n",
       "</style>\n",
       "<table border=\"1\" class=\"dataframe\">\n",
       "  <thead>\n",
       "    <tr style=\"text-align: right;\">\n",
       "      <th></th>\n",
       "      <th>city</th>\n",
       "      <th>borough</th>\n",
       "      <th>neighborhood</th>\n",
       "      <th>gross_square_feet</th>\n",
       "    </tr>\n",
       "  </thead>\n",
       "  <tbody>\n",
       "    <tr>\n",
       "      <th>0</th>\n",
       "      <td>0</td>\n",
       "      <td>0</td>\n",
       "      <td>0</td>\n",
       "      <td>1470.0</td>\n",
       "    </tr>\n",
       "    <tr>\n",
       "      <th>1</th>\n",
       "      <td>0</td>\n",
       "      <td>0</td>\n",
       "      <td>0</td>\n",
       "      <td>1497.0</td>\n",
       "    </tr>\n",
       "    <tr>\n",
       "      <th>2</th>\n",
       "      <td>0</td>\n",
       "      <td>0</td>\n",
       "      <td>0</td>\n",
       "      <td>1296.0</td>\n",
       "    </tr>\n",
       "    <tr>\n",
       "      <th>3</th>\n",
       "      <td>0</td>\n",
       "      <td>0</td>\n",
       "      <td>0</td>\n",
       "      <td>2047.0</td>\n",
       "    </tr>\n",
       "    <tr>\n",
       "      <th>4</th>\n",
       "      <td>0</td>\n",
       "      <td>0</td>\n",
       "      <td>0</td>\n",
       "      <td>1560.0</td>\n",
       "    </tr>\n",
       "    <tr>\n",
       "      <th>...</th>\n",
       "      <td>...</td>\n",
       "      <td>...</td>\n",
       "      <td>...</td>\n",
       "      <td>...</td>\n",
       "    </tr>\n",
       "    <tr>\n",
       "      <th>44153</th>\n",
       "      <td>62</td>\n",
       "      <td>5</td>\n",
       "      <td>893</td>\n",
       "      <td>496.0</td>\n",
       "    </tr>\n",
       "    <tr>\n",
       "      <th>44172</th>\n",
       "      <td>62</td>\n",
       "      <td>5</td>\n",
       "      <td>893</td>\n",
       "      <td>818.0</td>\n",
       "    </tr>\n",
       "    <tr>\n",
       "      <th>44173</th>\n",
       "      <td>62</td>\n",
       "      <td>5</td>\n",
       "      <td>893</td>\n",
       "      <td>148.0</td>\n",
       "    </tr>\n",
       "    <tr>\n",
       "      <th>44207</th>\n",
       "      <td>62</td>\n",
       "      <td>5</td>\n",
       "      <td>893</td>\n",
       "      <td>997.0</td>\n",
       "    </tr>\n",
       "    <tr>\n",
       "      <th>44429</th>\n",
       "      <td>63</td>\n",
       "      <td>5</td>\n",
       "      <td>894</td>\n",
       "      <td>738.0</td>\n",
       "    </tr>\n",
       "  </tbody>\n",
       "</table>\n",
       "<p>40023 rows × 4 columns</p>\n",
       "</div>"
      ],
      "text/plain": [
       "       city  borough  neighborhood  gross_square_feet\n",
       "0         0        0             0             1470.0\n",
       "1         0        0             0             1497.0\n",
       "2         0        0             0             1296.0\n",
       "3         0        0             0             2047.0\n",
       "4         0        0             0             1560.0\n",
       "...     ...      ...           ...                ...\n",
       "44153    62        5           893              496.0\n",
       "44172    62        5           893              818.0\n",
       "44173    62        5           893              148.0\n",
       "44207    62        5           893              997.0\n",
       "44429    63        5           894              738.0\n",
       "\n",
       "[40023 rows x 4 columns]"
      ]
     },
     "execution_count": 22,
     "metadata": {},
     "output_type": "execute_result"
    }
   ],
   "source": [
    "features_encoded"
   ]
  },
  {
   "cell_type": "code",
   "execution_count": 23,
   "id": "e09b130f-f65e-49ea-94b7-0dc575fcb5fb",
   "metadata": {},
   "outputs": [
    {
     "data": {
      "text/html": [
       "<style>#sk-container-id-2 {color: black;}#sk-container-id-2 pre{padding: 0;}#sk-container-id-2 div.sk-toggleable {background-color: white;}#sk-container-id-2 label.sk-toggleable__label {cursor: pointer;display: block;width: 100%;margin-bottom: 0;padding: 0.3em;box-sizing: border-box;text-align: center;}#sk-container-id-2 label.sk-toggleable__label-arrow:before {content: \"▸\";float: left;margin-right: 0.25em;color: #696969;}#sk-container-id-2 label.sk-toggleable__label-arrow:hover:before {color: black;}#sk-container-id-2 div.sk-estimator:hover label.sk-toggleable__label-arrow:before {color: black;}#sk-container-id-2 div.sk-toggleable__content {max-height: 0;max-width: 0;overflow: hidden;text-align: left;background-color: #f0f8ff;}#sk-container-id-2 div.sk-toggleable__content pre {margin: 0.2em;color: black;border-radius: 0.25em;background-color: #f0f8ff;}#sk-container-id-2 input.sk-toggleable__control:checked~div.sk-toggleable__content {max-height: 200px;max-width: 100%;overflow: auto;}#sk-container-id-2 input.sk-toggleable__control:checked~label.sk-toggleable__label-arrow:before {content: \"▾\";}#sk-container-id-2 div.sk-estimator input.sk-toggleable__control:checked~label.sk-toggleable__label {background-color: #d4ebff;}#sk-container-id-2 div.sk-label input.sk-toggleable__control:checked~label.sk-toggleable__label {background-color: #d4ebff;}#sk-container-id-2 input.sk-hidden--visually {border: 0;clip: rect(1px 1px 1px 1px);clip: rect(1px, 1px, 1px, 1px);height: 1px;margin: -1px;overflow: hidden;padding: 0;position: absolute;width: 1px;}#sk-container-id-2 div.sk-estimator {font-family: monospace;background-color: #f0f8ff;border: 1px dotted black;border-radius: 0.25em;box-sizing: border-box;margin-bottom: 0.5em;}#sk-container-id-2 div.sk-estimator:hover {background-color: #d4ebff;}#sk-container-id-2 div.sk-parallel-item::after {content: \"\";width: 100%;border-bottom: 1px solid gray;flex-grow: 1;}#sk-container-id-2 div.sk-label:hover label.sk-toggleable__label {background-color: #d4ebff;}#sk-container-id-2 div.sk-serial::before {content: \"\";position: absolute;border-left: 1px solid gray;box-sizing: border-box;top: 0;bottom: 0;left: 50%;z-index: 0;}#sk-container-id-2 div.sk-serial {display: flex;flex-direction: column;align-items: center;background-color: white;padding-right: 0.2em;padding-left: 0.2em;position: relative;}#sk-container-id-2 div.sk-item {position: relative;z-index: 1;}#sk-container-id-2 div.sk-parallel {display: flex;align-items: stretch;justify-content: center;background-color: white;position: relative;}#sk-container-id-2 div.sk-item::before, #sk-container-id-2 div.sk-parallel-item::before {content: \"\";position: absolute;border-left: 1px solid gray;box-sizing: border-box;top: 0;bottom: 0;left: 50%;z-index: -1;}#sk-container-id-2 div.sk-parallel-item {display: flex;flex-direction: column;z-index: 1;position: relative;background-color: white;}#sk-container-id-2 div.sk-parallel-item:first-child::after {align-self: flex-end;width: 50%;}#sk-container-id-2 div.sk-parallel-item:last-child::after {align-self: flex-start;width: 50%;}#sk-container-id-2 div.sk-parallel-item:only-child::after {width: 0;}#sk-container-id-2 div.sk-dashed-wrapped {border: 1px dashed gray;margin: 0 0.4em 0.5em 0.4em;box-sizing: border-box;padding-bottom: 0.4em;background-color: white;}#sk-container-id-2 div.sk-label label {font-family: monospace;font-weight: bold;display: inline-block;line-height: 1.2em;}#sk-container-id-2 div.sk-label-container {text-align: center;}#sk-container-id-2 div.sk-container {/* jupyter's `normalize.less` sets `[hidden] { display: none; }` but bootstrap.min.css set `[hidden] { display: none !important; }` so we also need the `!important` here to be able to override the default hidden behavior on the sphinx rendered scikit-learn.org. See: https://github.com/scikit-learn/scikit-learn/issues/21755 */display: inline-block !important;position: relative;}#sk-container-id-2 div.sk-text-repr-fallback {display: none;}</style><div id=\"sk-container-id-2\" class=\"sk-top-container\"><div class=\"sk-text-repr-fallback\"><pre>RandomForestRegressor(max_features=&#x27;sqrt&#x27;, min_samples_split=20,\n",
       "                      n_estimators=1000, random_state=42)</pre><b>In a Jupyter environment, please rerun this cell to show the HTML representation or trust the notebook. <br />On GitHub, the HTML representation is unable to render, please try loading this page with nbviewer.org.</b></div><div class=\"sk-container\" hidden><div class=\"sk-item\"><div class=\"sk-estimator sk-toggleable\"><input class=\"sk-toggleable__control sk-hidden--visually\" id=\"sk-estimator-id-2\" type=\"checkbox\" checked><label for=\"sk-estimator-id-2\" class=\"sk-toggleable__label sk-toggleable__label-arrow\">RandomForestRegressor</label><div class=\"sk-toggleable__content\"><pre>RandomForestRegressor(max_features=&#x27;sqrt&#x27;, min_samples_split=20,\n",
       "                      n_estimators=1000, random_state=42)</pre></div></div></div></div></div>"
      ],
      "text/plain": [
       "RandomForestRegressor(max_features='sqrt', min_samples_split=20,\n",
       "                      n_estimators=1000, random_state=42)"
      ]
     },
     "execution_count": 23,
     "metadata": {},
     "output_type": "execute_result"
    }
   ],
   "source": [
    "# split data sets for training and testing\n",
    "X_train, X_test, y_train, y_test = train_test_split(features_encoded, target, test_size=0.2, random_state=42)\n",
    "\n",
    "# create our model and fit/train it\n",
    "model = RandomForestRegressor(\n",
    "    n_estimators=1000,\n",
    "    max_depth=None,\n",
    "    min_samples_split=20,\n",
    "    min_samples_leaf=1,\n",
    "    max_features='sqrt',\n",
    "    random_state=42\n",
    ")\n",
    "model.fit(X_train, y_train)"
   ]
  },
  {
   "cell_type": "code",
   "execution_count": 24,
   "id": "b78080ea-3332-4103-9992-bdc2ab788d6c",
   "metadata": {},
   "outputs": [
    {
     "data": {
      "text/plain": [
       "(32018, 4)"
      ]
     },
     "execution_count": 24,
     "metadata": {},
     "output_type": "execute_result"
    }
   ],
   "source": [
    "X_train.shape"
   ]
  },
  {
   "cell_type": "code",
   "execution_count": 25,
   "id": "a6f9c4fd-0849-4b9d-b5af-ff65ce5fee3b",
   "metadata": {},
   "outputs": [
    {
     "name": "stdout",
     "output_type": "stream",
     "text": [
      "Random Forest RMSE: 698718.48\n",
      "Random Forest R^2: 0.72\n"
     ]
    }
   ],
   "source": [
    "y_pred = model.predict(X_test)\n",
    "\n",
    "# evaluation\n",
    "rmse = np.sqrt(mean_squared_error(y_test, y_pred))\n",
    "r2 = r2_score(y_test, y_pred)\n",
    "\n",
    "print(f\"Random Forest RMSE: {rmse:.2f}\")\n",
    "print(f\"Random Forest R^2: {r2:.2f}\")"
   ]
  },
  {
   "cell_type": "code",
   "execution_count": null,
   "id": "93dc316c-02df-49d5-bcd2-8a93ab877436",
   "metadata": {},
   "outputs": [],
   "source": [
    "#allow user input\n",
    "\n",
    "def predict_property_price(city, borough, neighborhood, square_feet):\n",
    "    input_data = {\n",
    "        'city': [city.lower()],\n",
    "        'borough': [borough.lower()],\n",
    "        'neighborhood': [neighborhood.lower()],\n",
    "        'gross_square_feet': [square_feet]\n",
    "    }\n",
    "\n",
    "    input_df = pd.DataFrame(input_data)\n",
    "\n",
    "    transformed_input = column_transformer.transform(input_df)\n",
    "\n",
    "    predicted_price = model.predict(transformed_input)\n",
    "\n",
    "    return f\"Sale price prediction for the property: ${predicted_price[0]:,.2f}\"\n",
    "\n",
    "# change here for user input it is not case sensitive, leave borough blank unless you are doing new york as your city and doing a neighborhood in NYC\n",
    "print(predict_property_price('chicago', '', 'chicago', 800))\n",
    "print(predict_property_price('new york', '', 'astoria', 3000))\n"
   ]
  },
  {
   "cell_type": "code",
   "execution_count": 30,
   "id": "c0d6e2e5-bf04-46ed-8b47-6243adbeab75",
   "metadata": {},
   "outputs": [
    {
     "name": "stdout",
     "output_type": "stream",
     "text": [
      "[0.04517255 0.14680425 0.27711845 0.53090475]\n"
     ]
    },
    {
     "data": {
      "image/png": "[encoded data removed]",
      "text/plain": [
       "<Figure size 640x480 with 1 Axes>"
      ]
     },
     "metadata": {},
     "output_type": "display_data"
    }
   ],
   "source": [
    "important =  model.feature_importances_\n",
    "print(important)\n",
    "#print(\"Feature importance:\", important)\n",
    "feature_names = ['city', 'borough', 'neighborhood', 'gross_square_feet']\n",
    "forest_importances = pd.Series(important, index = feature_names)\n",
    "\n",
    "fig,ax = plt.subplots()\n",
    "forest_importances.plot.bar(ax=ax)\n",
    "ax.set_title(\"Feautre Importances\")\n",
    "fig.tight_layout()"
   ]
  },
  {
   "cell_type": "code",
   "execution_count": 31,
   "id": "1664522f",
   "metadata": {},
   "outputs": [
    {
     "data": {
      "text/plain": [
       "Text(0.5, 1.0, 'Global Feature Importance - Built-in Method')"
      ]
     },
     "execution_count": 31,
     "metadata": {},
     "output_type": "execute_result"
    },
    {
     "data": {
      "image/png": "[encoded data removed]",
      "text/plain": [
       "<Figure size 640x480 with 1 Axes>"
      ]
     },
     "metadata": {},
     "output_type": "display_data"
    }
   ],
   "source": [
    "cols = ['city', 'borough', 'neighborhood', 'gross_square_feet']\n",
    "global_importances = pd.Series(model.feature_importances_, index=cols)\n",
    "global_importances.sort_values(ascending=True, inplace=True)\n",
    "global_importances.plot.barh(color='green')\n",
    "plt.xlabel(\"Importance\")\n",
    "plt.ylabel(\"Feature\")\n",
    "plt.title(\"Global Feature Importance - Built-in Method\")"
   ]
  }
 ],
 "metadata": {
  "kernelspec": {
   "display_name": "Python 3 (ipykernel)",
   "language": "python",
   "name": "python3"
  },
  "language_info": {
   "codemirror_mode": {
    "name": "ipython",
    "version": 3
   },
   "file_extension": ".py",
   "mimetype": "text/x-python",
   "name": "python",
   "nbconvert_exporter": "python",
   "pygments_lexer": "ipython3",
   "version": "3.10.13"
  }
 },
 "nbformat": 4,
 "nbformat_minor": 5
}
